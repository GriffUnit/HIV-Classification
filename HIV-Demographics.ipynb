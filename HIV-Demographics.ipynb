{
 "cells": [
  {
   "cell_type": "markdown",
   "metadata": {},
   "source": [
    "# HIV Status classification model"
   ]
  },
  {
   "cell_type": "markdown",
   "metadata": {
    "collapsed": true
   },
   "source": [
    "This dataset contains a Ghana Demographic and Health Survey (GDHS) collected by the Ghana Statistical Service (GSS) in 2003. The GDHS report showcases the demographics of 9555 person's who were surveyed and the number of those persons that had the HIV virus. \n",
    "\n",
    "Person's who were tested for the HIV virus were asked a few questions like, their gender, whether they have had sex before, and whether they have had sex within the past year. Their answers were correlated with thier individual HIV test results, and the data was summerized into a table.\n",
    "\n",
    "The purpose of this project is to create a classification model that predicts whether or not a person has the HIV virus based on their individual demographics. This would shed light on the types of people that are most vunerable to contract the virus, and in turn help the Ghana Aids coorporation to direct their resouces towards such persons, bringing efficiency to the fight against HIV prevalence in Ghana.\n",
    "\n",
    "The however the data is not comprehensive enough. Characteristics such as age, educational backgroud, Region, and employment status would have shed more light on the demographics of the most vunerable people."
   ]
  },
  {
   "cell_type": "markdown",
   "metadata": {},
   "source": [
    "### Data Description \n",
    "\n",
    "| Field          | Description                                                                           |\n",
    "|----------------|---------------------------------------------------------------------------------------|\n",
    "|Gender|\tThe gender of the person|\n",
    "|HSB|       It is an acronym for Had Sex Before, and it represents whether or not the person being surveyed has engaged in an form of sexual activity or not. To this the respondent replies __Yes__ or __No__|\n",
    "|HSWY|  It is an acronym for Had Sex Within a Year , and it is a question meant for persons who have had sex before. Such persons where asked a follow up question on whether or not they had sex within the past year and to this the respondent replies __Yes__ or __No__. All respondents who hadn't had sex before where assummed to have replied __No__ to this question|\n",
    "|HIV-Stat|\tCorresponds to the HIV test results of all the respondents during the survey|\n"
   ]
  },
  {
   "cell_type": "code",
   "execution_count": 1,
   "metadata": {},
   "outputs": [],
   "source": [
    "import numpy as np\n",
    "import pandas as pd\n",
    "import matplotlib.pyplot as plt\n",
    "%matplotlib inline "
   ]
  },
  {
   "cell_type": "markdown",
   "metadata": {},
   "source": [
    "### Data Preprocessing"
   ]
  },
  {
   "cell_type": "code",
   "execution_count": 2,
   "metadata": {},
   "outputs": [],
   "source": [
    "df = pd.read_csv('HIV.csv')\n",
    "df.head()"
   ]
  },
  {
   "cell_type": "code",
   "execution_count": 3,
   "metadata": {},
   "outputs": [],
   "source": [
    "#Converting \n",
    "mapping_gender = {\"Male\": 2, \"Female\": 4}\n",
    "mapping_stat = {\"Negative\": -1, \"Positive\": 1}\n",
    "mapping_hsb = {\"No\": 0, \"Yes\": 1}\n",
    "mapping_hswy = {\"No\": 0, \"Yes\": 1}\n",
    "\n",
    "df[\"Gender\"] = df[\"Gender\"].astype(\"str\")\n",
    "df[\"HIV-Stat\"] = df[\"HIV-Stat\"].astype(\"str\")\n",
    "df[\"HSB\"] = df[\"HSB\"].astype(\"str\")\n",
    "df[\"HSWY\"] = df[\"HSWY\"]\n",
    "df[\"Gender\"] = df[\"Gender\"].replace(mapping_gender)\n",
    "df[\"HIV-Stat\"] = df[\"HIV-Stat\"].replace(mapping_stat)\n",
    "df[\"HSB\"] = df[\"HSB\"].replace(mapping_hsb)\n",
    "df[\"HSWY\"] = df[\"HSWY\"].replace(mapping_hswy)\n",
    "\n",
    "df"
   ]
  },
  {
   "cell_type": "markdown",
   "metadata": {},
   "source": [
    "From the dataframe above, all string values have been transformed into numerical values. Males correspond to the number 2, and females to the number 4. Yes corresponds to 1 and No to 0. Finally a positive status corresponds to 1, whereas a negative status corresponds to -1.\n"
   ]
  },
  {
   "cell_type": "code",
   "execution_count": 4,
   "metadata": {},
   "outputs": [],
   "source": [
    "x = df[['Gender', 'HSB', 'HSWY']].values\n",
    "y = df['HIV-Stat'].values\n",
    "y"
   ]
  },
  {
   "cell_type": "markdown",
   "metadata": {},
   "source": [
    "### Creating the model"
   ]
  },
  {
   "cell_type": "code",
   "execution_count": 6,
   "metadata": {},
   "outputs": [],
   "source": [
    "from sklearn.model_selection import train_test_split\n",
    "from sklearn import preprocessing\n",
    "x_train, x_test, y_train, y_test = train_test_split(x,y, test_size = 0.2, random_state = 4)\n",
    "x_train_norm = preprocessing.StandardScaler().fit_transform(x_train)\n",
    "x_test_norm = preprocessing.StandardScaler().fit_transform(x_test)"
   ]
  },
  {
   "cell_type": "code",
   "execution_count": 7,
   "metadata": {},
   "outputs": [],
   "source": [
    "# Loop through various values of K and calculate the correspoding accuracy of each k value\n",
    "from sklearn.neighbors import KNeighborsClassifier\n",
    "from sklearn import metrics\n",
    "ks = 5\n",
    "mean_acc = np.zeros(ks)\n",
    "\n",
    "for n in range(1,ks+1):\n",
    "    neigh =  KNeighborsClassifier(n_neighbors=n).fit(x_train_norm,y_train)\n",
    "    y_predict = neigh.predict(x_test)\n",
    "    mean_acc[n-1] = metrics.accuracy_score(y_test, y_predict)\n",
    "    \n",
    "mean_acc"
   ]
  },
  {
   "cell_type": "markdown",
   "metadata": {},
   "source": [
    "Now lets evaluate the key features in this dataset that are most important when determining whether an individual has HIV or not.\n"
   ]
  },
  {
   "cell_type": "code",
   "execution_count": 8,
   "metadata": {},
   "outputs": [],
   "source": [
    "from sklearn.feature_selection import mutual_info_classif\n",
    "\n",
    "# X is your feature matrix, y is your target variable\n",
    "feature_scores = mutual_info_classif(x_train, y_train)\n",
    "feature_scores"
   ]
  },
  {
   "cell_type": "markdown",
   "metadata": {},
   "source": [
    "\n",
    "From the results above, it is evident that the most important feature in this dataset in determining whether or not one has HIV is whether he or she has had sexual realtions before."
   ]
  }
 ],
 "metadata": {
  "kernelspec": {
   "display_name": "Python 3 (ipykernel)",
   "language": "python",
   "name": "python3"
  },
  "language_info": {
   "codemirror_mode": {
    "name": "ipython",
    "version": 3
   },
   "file_extension": ".py",
   "mimetype": "text/x-python",
   "name": "python",
   "nbconvert_exporter": "python",
   "pygments_lexer": "ipython3",
   "version": "3.11.3"
  }
 },
 "nbformat": 4,
 "nbformat_minor": 2
}
